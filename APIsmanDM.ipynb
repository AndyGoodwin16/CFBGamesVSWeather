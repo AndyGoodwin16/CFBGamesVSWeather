{
 "cells": [
  {
   "cell_type": "code",
   "execution_count": 28,
   "id": "60409680-2b68-4421-9c6e-e3262c3613d2",
   "metadata": {},
   "outputs": [],
   "source": [
    "# Dependencies\n",
    "import pandas as pd\n",
    "import matplotlib.pyplot as plt\n",
    "import scipy.stats as st\n",
    "import numpy as np"
   ]
  },
  {
   "cell_type": "code",
   "execution_count": 29,
   "id": "371e3247-50f7-41cf-9384-be82291744fe",
   "metadata": {},
   "outputs": [],
   "source": [
    "# Reading in data from CSV\n",
    "df = pd.read_csv(\"data/cfb_attendance_DM.csv\", encoding=\"cp1252\")"
   ]
  },
  {
   "cell_type": "code",
   "execution_count": 30,
   "id": "f5717846-296c-4b18-a779-bab777dfbae9",
   "metadata": {},
   "outputs": [
    {
     "data": {
      "text/plain": [
       "Date                 object\n",
       "Team                 object\n",
       "Time                 object\n",
       "Opponent             object\n",
       "Rank                 object\n",
       "Site                 object\n",
       "TV                   object\n",
       "Result               object\n",
       "Results              object\n",
       "Home Score            int64\n",
       "Away Score            int64\n",
       "Attendance          float64\n",
       "Current Wins         object\n",
       "Current Losses       object\n",
       "Stadium Capacity      int64\n",
       "Fill Rate           float64\n",
       "New Coach            object\n",
       "Tailgating           object\n",
       "PRCP                float64\n",
       "SNOW                 object\n",
       "SNWD                 object\n",
       "TMAX                  int64\n",
       "TMIN                  int64\n",
       "Opponent_Rank        object\n",
       "Conference           object\n",
       "Year                float64\n",
       "Month               float64\n",
       "Day                 float64\n",
       "dtype: object"
      ]
     },
     "execution_count": 30,
     "metadata": {},
     "output_type": "execute_result"
    }
   ],
   "source": [
    "#ascertain current data types\n",
    "df.dtypes"
   ]
  },
  {
   "cell_type": "code",
   "execution_count": 31,
   "id": "7fe87de6-5658-4dae-be5f-30ffc916abb2",
   "metadata": {},
   "outputs": [
    {
     "data": {
      "text/plain": [
       "Date                datetime64[ns]\n",
       "Team                        object\n",
       "Time                        object\n",
       "Opponent                    string\n",
       "Rank                        object\n",
       "Site                        string\n",
       "TV                          string\n",
       "Result                      object\n",
       "Results                     object\n",
       "Home Score                   int32\n",
       "Away Score                   int32\n",
       "Attendance                 float64\n",
       "Current Wins                object\n",
       "Current Losses              object\n",
       "Stadium Capacity             int64\n",
       "Fill Rate                  float64\n",
       "New Coach                   object\n",
       "Tailgating                  object\n",
       "PRCP                       float64\n",
       "SNOW                        object\n",
       "SNWD                        object\n",
       "TMAX                         int64\n",
       "TMIN                         int64\n",
       "Opponent_Rank               object\n",
       "Conference                  object\n",
       "Year                       float64\n",
       "Month                      float64\n",
       "Day                        float64\n",
       "dtype: object"
      ]
     },
     "execution_count": 31,
     "metadata": {},
     "output_type": "execute_result"
    }
   ],
   "source": [
    "# Change column datatypes\n",
    "df['Date'] = df['Date'].astype('datetime64')\n",
    "df['Opponent'] = df['Opponent'].astype('string')\n",
    "df['Site'] = df['Site'].astype('string')\n",
    "df['TV'] = df['TV'].astype('string')\n",
    "df['Home Score'] = df['Home Score'].astype('int32')\n",
    "df['Away Score'] = df['Away Score'].astype('int32')\n",
    "\n",
    "#converted time to military and dropped minutes so that it could be more easily sorted just by hour\n",
    "df['Time'] = pd.to_datetime(df['Time'], format='%I:%M %p').dt.strftime('%H')\n",
    "\n",
    "df.dtypes"
   ]
  },
  {
   "cell_type": "code",
   "execution_count": 32,
   "id": "6e8d4b05-79f5-4b88-ab22-a646c79022c3",
   "metadata": {},
   "outputs": [
    {
     "data": {
      "text/html": [
       "<div>\n",
       "<style scoped>\n",
       "    .dataframe tbody tr th:only-of-type {\n",
       "        vertical-align: middle;\n",
       "    }\n",
       "\n",
       "    .dataframe tbody tr th {\n",
       "        vertical-align: top;\n",
       "    }\n",
       "\n",
       "    .dataframe thead th {\n",
       "        text-align: right;\n",
       "    }\n",
       "</style>\n",
       "<table border=\"1\" class=\"dataframe\">\n",
       "  <thead>\n",
       "    <tr style=\"text-align: right;\">\n",
       "      <th></th>\n",
       "      <th>Date</th>\n",
       "      <th>Team</th>\n",
       "      <th>Time</th>\n",
       "      <th>Opponent</th>\n",
       "      <th>Rank</th>\n",
       "      <th>Site</th>\n",
       "      <th>TV</th>\n",
       "      <th>Result</th>\n",
       "      <th>Results</th>\n",
       "      <th>Home Score</th>\n",
       "      <th>...</th>\n",
       "      <th>PRCP</th>\n",
       "      <th>SNOW</th>\n",
       "      <th>SNWD</th>\n",
       "      <th>TMAX</th>\n",
       "      <th>TMIN</th>\n",
       "      <th>Opponent_Rank</th>\n",
       "      <th>Conference</th>\n",
       "      <th>Year</th>\n",
       "      <th>Month</th>\n",
       "      <th>Day</th>\n",
       "    </tr>\n",
       "  </thead>\n",
       "  <tbody>\n",
       "    <tr>\n",
       "      <th>0</th>\n",
       "      <td>2000-09-02</td>\n",
       "      <td>Arkansas</td>\n",
       "      <td>20</td>\n",
       "      <td>Southwest Missouri State*</td>\n",
       "      <td>NR</td>\n",
       "      <td>War Memorial StadiumLittle Rock, AR</td>\n",
       "      <td>Not on TV</td>\n",
       "      <td>W 38–0</td>\n",
       "      <td>W</td>\n",
       "      <td>38</td>\n",
       "      <td>...</td>\n",
       "      <td>0.00</td>\n",
       "      <td>0</td>\n",
       "      <td>0</td>\n",
       "      <td>105</td>\n",
       "      <td>65</td>\n",
       "      <td>NR</td>\n",
       "      <td>SEC</td>\n",
       "      <td>2000.0</td>\n",
       "      <td>9.0</td>\n",
       "      <td>2.0</td>\n",
       "    </tr>\n",
       "    <tr>\n",
       "      <th>1</th>\n",
       "      <td>2000-09-16</td>\n",
       "      <td>Arkansas</td>\n",
       "      <td>18</td>\n",
       "      <td>Boise State*</td>\n",
       "      <td>NR</td>\n",
       "      <td>War Memorial StadiumLittle Rock, AR</td>\n",
       "      <td>Not on TV</td>\n",
       "      <td>W 38–31</td>\n",
       "      <td>W</td>\n",
       "      <td>38</td>\n",
       "      <td>...</td>\n",
       "      <td>0.00</td>\n",
       "      <td>0</td>\n",
       "      <td>0</td>\n",
       "      <td>79</td>\n",
       "      <td>44</td>\n",
       "      <td>NR</td>\n",
       "      <td>SEC</td>\n",
       "      <td>2000.0</td>\n",
       "      <td>9.0</td>\n",
       "      <td>16.0</td>\n",
       "    </tr>\n",
       "    <tr>\n",
       "      <th>2</th>\n",
       "      <td>2000-09-23</td>\n",
       "      <td>Arkansas</td>\n",
       "      <td>20</td>\n",
       "      <td>Alabama</td>\n",
       "      <td>NR</td>\n",
       "      <td>Razorback StadiumFayetteville, AR</td>\n",
       "      <td>ESPN2</td>\n",
       "      <td>W 28–21</td>\n",
       "      <td>W</td>\n",
       "      <td>28</td>\n",
       "      <td>...</td>\n",
       "      <td>2.12</td>\n",
       "      <td>0</td>\n",
       "      <td>0</td>\n",
       "      <td>85</td>\n",
       "      <td>63</td>\n",
       "      <td>NR</td>\n",
       "      <td>SEC</td>\n",
       "      <td>2000.0</td>\n",
       "      <td>9.0</td>\n",
       "      <td>23.0</td>\n",
       "    </tr>\n",
       "    <tr>\n",
       "      <th>3</th>\n",
       "      <td>2000-09-30</td>\n",
       "      <td>Arkansas</td>\n",
       "      <td>11</td>\n",
       "      <td>No. 25 Georgia</td>\n",
       "      <td>NR</td>\n",
       "      <td>Razorback StadiumFayetteville, AR</td>\n",
       "      <td>JPS</td>\n",
       "      <td>L 7–38</td>\n",
       "      <td>L</td>\n",
       "      <td>7</td>\n",
       "      <td>...</td>\n",
       "      <td>0.00</td>\n",
       "      <td>0</td>\n",
       "      <td>0</td>\n",
       "      <td>77</td>\n",
       "      <td>45</td>\n",
       "      <td>25</td>\n",
       "      <td>SEC</td>\n",
       "      <td>2000.0</td>\n",
       "      <td>9.0</td>\n",
       "      <td>30.0</td>\n",
       "    </tr>\n",
       "    <tr>\n",
       "      <th>4</th>\n",
       "      <td>2000-10-07</td>\n",
       "      <td>Arkansas</td>\n",
       "      <td>18</td>\n",
       "      <td>Louisiana–Monroe*</td>\n",
       "      <td>NR</td>\n",
       "      <td>Razorback StadiumFayetteville, AR</td>\n",
       "      <td>Not on TV</td>\n",
       "      <td>W 52–6</td>\n",
       "      <td>W</td>\n",
       "      <td>52</td>\n",
       "      <td>...</td>\n",
       "      <td>0.00</td>\n",
       "      <td>0</td>\n",
       "      <td>0</td>\n",
       "      <td>50</td>\n",
       "      <td>28</td>\n",
       "      <td>NR</td>\n",
       "      <td>SEC</td>\n",
       "      <td>2000.0</td>\n",
       "      <td>10.0</td>\n",
       "      <td>7.0</td>\n",
       "    </tr>\n",
       "  </tbody>\n",
       "</table>\n",
       "<p>5 rows × 28 columns</p>\n",
       "</div>"
      ],
      "text/plain": [
       "        Date      Team Time                   Opponent Rank  \\\n",
       "0 2000-09-02  Arkansas   20  Southwest Missouri State*   NR   \n",
       "1 2000-09-16  Arkansas   18               Boise State*   NR   \n",
       "2 2000-09-23  Arkansas   20                    Alabama   NR   \n",
       "3 2000-09-30  Arkansas   11             No. 25 Georgia   NR   \n",
       "4 2000-10-07  Arkansas   18          Louisiana–Monroe*   NR   \n",
       "\n",
       "                                  Site         TV   Result Results  \\\n",
       "0  War Memorial StadiumLittle Rock, AR  Not on TV   W 38–0       W   \n",
       "1  War Memorial StadiumLittle Rock, AR  Not on TV  W 38–31       W   \n",
       "2    Razorback StadiumFayetteville, AR      ESPN2  W 28–21       W   \n",
       "3    Razorback StadiumFayetteville, AR        JPS   L 7–38       L   \n",
       "4    Razorback StadiumFayetteville, AR  Not on TV   W 52–6       W   \n",
       "\n",
       "   Home Score  ...  PRCP  SNOW SNWD TMAX  TMIN  Opponent_Rank Conference  \\\n",
       "0          38  ...  0.00     0    0  105    65             NR        SEC   \n",
       "1          38  ...  0.00     0    0   79    44             NR        SEC   \n",
       "2          28  ...  2.12     0    0   85    63             NR        SEC   \n",
       "3           7  ...  0.00     0    0   77    45             25        SEC   \n",
       "4          52  ...  0.00     0    0   50    28             NR        SEC   \n",
       "\n",
       "     Year  Month   Day  \n",
       "0  2000.0    9.0   2.0  \n",
       "1  2000.0    9.0  16.0  \n",
       "2  2000.0    9.0  23.0  \n",
       "3  2000.0    9.0  30.0  \n",
       "4  2000.0   10.0   7.0  \n",
       "\n",
       "[5 rows x 28 columns]"
      ]
     },
     "execution_count": 32,
     "metadata": {},
     "output_type": "execute_result"
    }
   ],
   "source": [
    "#preview data\n",
    "df.head()"
   ]
  },
  {
   "cell_type": "code",
   "execution_count": 4,
   "id": "daec4f2c-e6cf-45b7-ab1e-e029f666fd42",
   "metadata": {},
   "outputs": [
    {
     "data": {
      "text/plain": [
       "0       38\n",
       "1       69\n",
       "2       49\n",
       "3       45\n",
       "4       58\n",
       "        ..\n",
       "6667    47\n",
       "6668    51\n",
       "6669    19\n",
       "6670    80\n",
       "6671    46\n",
       "Name: Total Score, Length: 6672, dtype: int32"
      ]
     },
     "execution_count": 4,
     "metadata": {},
     "output_type": "execute_result"
    }
   ],
   "source": [
    "#determine total score\n",
    "total_score = df['Home Score'] + df['Away Score']\n",
    "df['Total Score'] = total_score\n",
    "df['Total Score']"
   ]
  },
  {
   "cell_type": "code",
   "execution_count": 34,
   "id": "56295caf-a2bf-4e76-ac42-7ad36be4bfb6",
   "metadata": {},
   "outputs": [
    {
     "data": {
      "text/plain": [
       "18    1216\n",
       "19    1023\n",
       "12     881\n",
       "15     784\n",
       "14     770\n",
       "13     637\n",
       "11     569\n",
       "20     284\n",
       "16     282\n",
       "17     213\n",
       "21       7\n",
       "10       6\n",
       "Name: Time, dtype: int64"
      ]
     },
     "execution_count": 34,
     "metadata": {},
     "output_type": "execute_result"
    }
   ],
   "source": [
    "#determine how many games fall into each hour\n",
    "df['Time'].value_counts()"
   ]
  },
  {
   "cell_type": "code",
   "execution_count": 6,
   "id": "318f4d19-9f72-4a40-8057-3a40357ff34c",
   "metadata": {},
   "outputs": [
    {
     "data": {
      "text/plain": [
       "12"
      ]
     },
     "execution_count": 6,
     "metadata": {},
     "output_type": "execute_result"
    }
   ],
   "source": [
    "#determine total number of times we're working with\n",
    "df['Time'].nunique()"
   ]
  },
  {
   "cell_type": "code",
   "execution_count": 7,
   "id": "fa1db265-4185-4d45-b8e0-d2e245e056c5",
   "metadata": {},
   "outputs": [],
   "source": [
    "#format pyplot plots nicely\n",
    "from matplotlib.pylab import rcParams\n",
    "%matplotlib inline\n",
    "import seaborn as sns\n",
    "sns.set(style='ticks',font='Arial',font_scale=1.2)\n",
    "rcParams['figure.figsize'] = 12,8\n",
    "rcParams['axes.spines.top'] = False\n",
    "rcParams['axes.spines.right'] = False"
   ]
  },
  {
   "cell_type": "code",
   "execution_count": 8,
   "id": "c59df4e6-d929-40d1-ac15-66134b8fc5d0",
   "metadata": {
    "tags": []
   },
   "outputs": [
    {
     "data": {
      "text/html": [
       "<div>\n",
       "<style scoped>\n",
       "    .dataframe tbody tr th:only-of-type {\n",
       "        vertical-align: middle;\n",
       "    }\n",
       "\n",
       "    .dataframe tbody tr th {\n",
       "        vertical-align: top;\n",
       "    }\n",
       "\n",
       "    .dataframe thead th {\n",
       "        text-align: right;\n",
       "    }\n",
       "</style>\n",
       "<table border=\"1\" class=\"dataframe\">\n",
       "  <thead>\n",
       "    <tr style=\"text-align: right;\">\n",
       "      <th></th>\n",
       "      <th>mean</th>\n",
       "      <th>median</th>\n",
       "      <th>var</th>\n",
       "      <th>std</th>\n",
       "      <th>sem</th>\n",
       "    </tr>\n",
       "    <tr>\n",
       "      <th>Time</th>\n",
       "      <th></th>\n",
       "      <th></th>\n",
       "      <th></th>\n",
       "      <th></th>\n",
       "      <th></th>\n",
       "    </tr>\n",
       "  </thead>\n",
       "  <tbody>\n",
       "    <tr>\n",
       "      <th>10</th>\n",
       "      <td>48.500000</td>\n",
       "      <td>46.5</td>\n",
       "      <td>289.100000</td>\n",
       "      <td>17.002941</td>\n",
       "      <td>6.941422</td>\n",
       "    </tr>\n",
       "    <tr>\n",
       "      <th>11</th>\n",
       "      <td>55.282953</td>\n",
       "      <td>55.0</td>\n",
       "      <td>341.023670</td>\n",
       "      <td>18.466826</td>\n",
       "      <td>0.774170</td>\n",
       "    </tr>\n",
       "    <tr>\n",
       "      <th>12</th>\n",
       "      <td>52.393871</td>\n",
       "      <td>52.0</td>\n",
       "      <td>291.673099</td>\n",
       "      <td>17.078440</td>\n",
       "      <td>0.575387</td>\n",
       "    </tr>\n",
       "    <tr>\n",
       "      <th>13</th>\n",
       "      <td>53.653061</td>\n",
       "      <td>53.0</td>\n",
       "      <td>327.371583</td>\n",
       "      <td>18.093413</td>\n",
       "      <td>0.716887</td>\n",
       "    </tr>\n",
       "    <tr>\n",
       "      <th>14</th>\n",
       "      <td>55.005195</td>\n",
       "      <td>54.0</td>\n",
       "      <td>324.954459</td>\n",
       "      <td>18.026493</td>\n",
       "      <td>0.649630</td>\n",
       "    </tr>\n",
       "    <tr>\n",
       "      <th>15</th>\n",
       "      <td>54.201531</td>\n",
       "      <td>53.0</td>\n",
       "      <td>334.403778</td>\n",
       "      <td>18.286710</td>\n",
       "      <td>0.653097</td>\n",
       "    </tr>\n",
       "    <tr>\n",
       "      <th>16</th>\n",
       "      <td>55.851064</td>\n",
       "      <td>55.0</td>\n",
       "      <td>332.155675</td>\n",
       "      <td>18.225139</td>\n",
       "      <td>1.085291</td>\n",
       "    </tr>\n",
       "    <tr>\n",
       "      <th>17</th>\n",
       "      <td>55.183099</td>\n",
       "      <td>54.0</td>\n",
       "      <td>334.631411</td>\n",
       "      <td>18.292933</td>\n",
       "      <td>1.253411</td>\n",
       "    </tr>\n",
       "    <tr>\n",
       "      <th>18</th>\n",
       "      <td>55.763980</td>\n",
       "      <td>55.0</td>\n",
       "      <td>327.350833</td>\n",
       "      <td>18.092839</td>\n",
       "      <td>0.518848</td>\n",
       "    </tr>\n",
       "    <tr>\n",
       "      <th>19</th>\n",
       "      <td>53.772239</td>\n",
       "      <td>53.0</td>\n",
       "      <td>319.722047</td>\n",
       "      <td>17.880773</td>\n",
       "      <td>0.559047</td>\n",
       "    </tr>\n",
       "    <tr>\n",
       "      <th>20</th>\n",
       "      <td>53.211268</td>\n",
       "      <td>52.0</td>\n",
       "      <td>359.785597</td>\n",
       "      <td>18.968015</td>\n",
       "      <td>1.125545</td>\n",
       "    </tr>\n",
       "    <tr>\n",
       "      <th>21</th>\n",
       "      <td>60.857143</td>\n",
       "      <td>56.0</td>\n",
       "      <td>437.476190</td>\n",
       "      <td>20.915931</td>\n",
       "      <td>7.905479</td>\n",
       "    </tr>\n",
       "  </tbody>\n",
       "</table>\n",
       "</div>"
      ],
      "text/plain": [
       "           mean  median         var        std       sem\n",
       "Time                                                    \n",
       "10    48.500000    46.5  289.100000  17.002941  6.941422\n",
       "11    55.282953    55.0  341.023670  18.466826  0.774170\n",
       "12    52.393871    52.0  291.673099  17.078440  0.575387\n",
       "13    53.653061    53.0  327.371583  18.093413  0.716887\n",
       "14    55.005195    54.0  324.954459  18.026493  0.649630\n",
       "15    54.201531    53.0  334.403778  18.286710  0.653097\n",
       "16    55.851064    55.0  332.155675  18.225139  1.085291\n",
       "17    55.183099    54.0  334.631411  18.292933  1.253411\n",
       "18    55.763980    55.0  327.350833  18.092839  0.518848\n",
       "19    53.772239    53.0  319.722047  17.880773  0.559047\n",
       "20    53.211268    52.0  359.785597  18.968015  1.125545\n",
       "21    60.857143    56.0  437.476190  20.915931  7.905479"
      ]
     },
     "execution_count": 8,
     "metadata": {},
     "output_type": "execute_result"
    }
   ],
   "source": [
    "#gather summary statistics of time and total score\n",
    "summary_df = df.groupby(['Time'])['Total Score'].agg(['mean', 'median', 'var', 'std', 'sem'])\n",
    "summary_df"
   ]
  },
  {
   "cell_type": "code",
   "execution_count": 9,
   "id": "db538fa5-2394-445d-a7a9-c3424bf6c8bb",
   "metadata": {
    "tags": []
   },
   "outputs": [
    {
     "name": "stdout",
     "output_type": "stream",
     "text": [
      "<class 'pandas.core.frame.DataFrame'>\n",
      "Int64Index: 12 entries, 10 to 21\n",
      "Data columns (total 12 columns):\n",
      " #   Column            Non-Null Count  Dtype  \n",
      "---  ------            --------------  -----  \n",
      " 0   Home Score        12 non-null     float64\n",
      " 1   Away Score        12 non-null     float64\n",
      " 2   Attendance        12 non-null     float64\n",
      " 3   Stadium Capacity  12 non-null     float64\n",
      " 4   Fill Rate         12 non-null     float64\n",
      " 5   PRCP              12 non-null     float64\n",
      " 6   TMAX              12 non-null     float64\n",
      " 7   TMIN              12 non-null     float64\n",
      " 8   Year              12 non-null     float64\n",
      " 9   Month             12 non-null     float64\n",
      " 10  Day               12 non-null     float64\n",
      " 11  Total Score       12 non-null     int64  \n",
      "dtypes: float64(11), int64(1)\n",
      "memory usage: 1.2 KB\n"
     ]
    }
   ],
   "source": [
    "#create a dataframe for plotting the data by average\n",
    "plot_df = df.groupby(['Time']).mean()\n",
    "plot_df.index = plot_df.index.astype('int64')\n",
    "plot_df['Total Score'] = plot_df['Total Score'].astype('int64')\n",
    "\n",
    "plot_df.info()"
   ]
  },
  {
   "cell_type": "code",
   "execution_count": 10,
   "id": "ee3de4a2-a14d-436e-9546-bf648b4ded52",
   "metadata": {
    "tags": []
   },
   "outputs": [
    {
     "name": "stdout",
     "output_type": "stream",
     "text": [
      "The correlation coefficient between time and average total score is 0.6\n",
      "The linear regression model is: y = 0.46x + 46.85\n"
     ]
    },
    {
     "data": {
      "image/png": "[encoded data removed]",
      "text/plain": [
       "<Figure size 864x576 with 1 Axes>"
      ]
     },
     "metadata": {},
     "output_type": "display_data"
    }
   ],
   "source": [
    "#create linear regression line\n",
    "vc_slope, vc_int, vc_r, vc_p, vc_std_err = st.linregress(plot_df.index, plot_df['Total Score']);\n",
    "vc_fit = vc_slope * plot_df.index + vc_int\n",
    "(slope, intercept, rvalue, pvalue, stderr) = st.linregress(plot_df.index, plot_df['Total Score']);\n",
    "regress_values = plot_df.index * slope + intercept\n",
    "\n",
    "plt.plot(plot_df.index,vc_fit,\"--\");\n",
    "\n",
    "#create scatter plot\n",
    "x_axis = plot_df.index\n",
    "y_axis = plot_df['Total Score']\n",
    "plt.scatter(x_axis, y_axis)\n",
    "plt.ylabel('Total Score')\n",
    "plt.xlabel('Time')\n",
    "plt.title(\"Average total score vs. game time with a linear regression line\");\n",
    "\n",
    "print(f\"The correlation coefficient between time and average total score is {round(st.pearsonr(plot_df.index, plot_df['Total Score'])[0],2)}\")\n",
    "\n",
    "line_eq = \"y = \" + str(round(slope,2)) + \"x + \" + str(round(intercept,2));\n",
    "print(f\"The linear regression model is: {line_eq}\")"
   ]
  },
  {
   "cell_type": "code",
   "execution_count": 40,
   "id": "965d1667-3fb1-42fd-bfef-f1c4f9698b43",
   "metadata": {
    "tags": []
   },
   "outputs": [
    {
     "data": {
      "image/png": "[encoded data removed]",
      "text/plain": [
       "<Figure size 864x576 with 1 Axes>"
      ]
     },
     "metadata": {},
     "output_type": "display_data"
    }
   ],
   "source": [
    "#create bar plot\n",
    "x_axis = plot_df.index\n",
    "y_axis = plot_df['Total Score']\n",
    "plt.bar(x_axis, y_axis)\n",
    "plt.ylabel('Total Score')\n",
    "plt.xlabel('Time')\n",
    "plt.title(\"Average total score vs. game time\");"
   ]
  }
 ],
 "metadata": {
  "kernelspec": {
   "display_name": "Python 3 (ipykernel)",
   "language": "python",
   "name": "python3"
  },
  "language_info": {
   "codemirror_mode": {
    "name": "ipython",
    "version": 3
   },
   "file_extension": ".py",
   "mimetype": "text/x-python",
   "name": "python",
   "nbconvert_exporter": "python",
   "pygments_lexer": "ipython3",
   "version": "3.9.7"
  }
 },
 "nbformat": 4,
 "nbformat_minor": 5
}
