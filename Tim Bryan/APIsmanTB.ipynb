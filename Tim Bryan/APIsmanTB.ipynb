{
 "cells": [
  {
   "cell_type": "code",
   "execution_count": 1,
   "id": "60409680-2b68-4421-9c6e-e3262c3613d2",
   "metadata": {},
   "outputs": [],
   "source": [
    "# Dependencies\n",
    "import pandas as pd\n",
    "import matplotlib.pyplot as plt\n",
    "import scipy.stats as st\n",
    "import numpy as np"
   ]
  },
  {
   "cell_type": "code",
   "execution_count": 2,
   "id": "371e3247-50f7-41cf-9384-be82291744fe",
   "metadata": {},
   "outputs": [],
   "source": [
    "# Reading in data from CSV\n",
    "df = pd.read_csv(\"../data/cfb_attendance_DM.csv\", encoding=\"cp1252\")"
   ]
  },
  {
   "cell_type": "code",
   "execution_count": 3,
   "id": "f5717846-296c-4b18-a779-bab777dfbae9",
   "metadata": {},
   "outputs": [
    {
     "data": {
      "text/plain": [
       "Date                 object\n",
       "Team                 object\n",
       "Time                 object\n",
       "Opponent             object\n",
       "Rank                 object\n",
       "Site                 object\n",
       "TV                   object\n",
       "Result               object\n",
       "Results              object\n",
       "Home Score            int64\n",
       "Away Score            int64\n",
       "Attendance          float64\n",
       "Current Wins         object\n",
       "Current Losses       object\n",
       "Stadium Capacity      int64\n",
       "Fill Rate           float64\n",
       "New Coach            object\n",
       "Tailgating           object\n",
       "PRCP                float64\n",
       "SNOW                 object\n",
       "SNWD                 object\n",
       "TMAX                  int64\n",
       "TMIN                  int64\n",
       "Opponent_Rank        object\n",
       "Conference           object\n",
       "Year                float64\n",
       "Month               float64\n",
       "Day                 float64\n",
       "dtype: object"
      ]
     },
     "execution_count": 3,
     "metadata": {},
     "output_type": "execute_result"
    }
   ],
   "source": [
    "#ascertain current data types\n",
    "df.dtypes"
   ]
  },
  {
   "cell_type": "code",
   "execution_count": 9,
   "id": "7fe87de6-5658-4dae-be5f-30ffc916abb2",
   "metadata": {},
   "outputs": [
    {
     "data": {
      "text/plain": [
       "Date                datetime64[ns]\n",
       "Team                        object\n",
       "Time                        object\n",
       "Opponent                    string\n",
       "Rank                        object\n",
       "Site                        string\n",
       "TV                          string\n",
       "Result                      object\n",
       "Results                     object\n",
       "Home Score                   int32\n",
       "Away Score                   int32\n",
       "Attendance                 float64\n",
       "Current Wins                object\n",
       "Current Losses              object\n",
       "Stadium Capacity             int64\n",
       "Fill Rate                  float64\n",
       "New Coach                   object\n",
       "Tailgating                  object\n",
       "PRCP                       float64\n",
       "SNOW                        object\n",
       "SNWD                        object\n",
       "TMAX                         int64\n",
       "TMIN                         int64\n",
       "Opponent_Rank               object\n",
       "Conference                  object\n",
       "Year                       float64\n",
       "Month                      float64\n",
       "Day                        float64\n",
       "Total Score                  int32\n",
       "dtype: object"
      ]
     },
     "execution_count": 9,
     "metadata": {},
     "output_type": "execute_result"
    }
   ],
   "source": [
    "# Change column datatypes\n",
    "df['Date'] = df['Date'].astype('datetime64')\n",
    "df['Opponent'] = df['Opponent'].astype('string')\n",
    "df['Site'] = df['Site'].astype('string')\n",
    "df['TV'] = df['TV'].astype('string')\n",
    "df['Home Score'] = df['Home Score'].astype('int32')\n",
    "df['Away Score'] = df['Away Score'].astype('int32')\n",
    "\n",
    "df.dtypes"
   ]
  },
  {
   "cell_type": "code",
   "execution_count": 10,
   "id": "6e8d4b05-79f5-4b88-ab22-a646c79022c3",
   "metadata": {},
   "outputs": [
    {
     "data": {
      "text/html": [
       "<div>\n",
       "<style scoped>\n",
       "    .dataframe tbody tr th:only-of-type {\n",
       "        vertical-align: middle;\n",
       "    }\n",
       "\n",
       "    .dataframe tbody tr th {\n",
       "        vertical-align: top;\n",
       "    }\n",
       "\n",
       "    .dataframe thead th {\n",
       "        text-align: right;\n",
       "    }\n",
       "</style>\n",
       "<table border=\"1\" class=\"dataframe\">\n",
       "  <thead>\n",
       "    <tr style=\"text-align: right;\">\n",
       "      <th></th>\n",
       "      <th>Date</th>\n",
       "      <th>Team</th>\n",
       "      <th>Time</th>\n",
       "      <th>Opponent</th>\n",
       "      <th>Rank</th>\n",
       "      <th>Site</th>\n",
       "      <th>TV</th>\n",
       "      <th>Result</th>\n",
       "      <th>Results</th>\n",
       "      <th>Home Score</th>\n",
       "      <th>...</th>\n",
       "      <th>SNOW</th>\n",
       "      <th>SNWD</th>\n",
       "      <th>TMAX</th>\n",
       "      <th>TMIN</th>\n",
       "      <th>Opponent_Rank</th>\n",
       "      <th>Conference</th>\n",
       "      <th>Year</th>\n",
       "      <th>Month</th>\n",
       "      <th>Day</th>\n",
       "      <th>Total Score</th>\n",
       "    </tr>\n",
       "  </thead>\n",
       "  <tbody>\n",
       "    <tr>\n",
       "      <th>0</th>\n",
       "      <td>2000-09-02</td>\n",
       "      <td>Arkansas</td>\n",
       "      <td>20</td>\n",
       "      <td>Southwest Missouri State*</td>\n",
       "      <td>NR</td>\n",
       "      <td>War Memorial StadiumLittle Rock, AR</td>\n",
       "      <td>Not on TV</td>\n",
       "      <td>W 38–0</td>\n",
       "      <td>W</td>\n",
       "      <td>38</td>\n",
       "      <td>...</td>\n",
       "      <td>0</td>\n",
       "      <td>0</td>\n",
       "      <td>105</td>\n",
       "      <td>65</td>\n",
       "      <td>NR</td>\n",
       "      <td>SEC</td>\n",
       "      <td>2000.0</td>\n",
       "      <td>9.0</td>\n",
       "      <td>2.0</td>\n",
       "      <td>38</td>\n",
       "    </tr>\n",
       "    <tr>\n",
       "      <th>1</th>\n",
       "      <td>2000-09-16</td>\n",
       "      <td>Arkansas</td>\n",
       "      <td>18</td>\n",
       "      <td>Boise State*</td>\n",
       "      <td>NR</td>\n",
       "      <td>War Memorial StadiumLittle Rock, AR</td>\n",
       "      <td>Not on TV</td>\n",
       "      <td>W 38–31</td>\n",
       "      <td>W</td>\n",
       "      <td>38</td>\n",
       "      <td>...</td>\n",
       "      <td>0</td>\n",
       "      <td>0</td>\n",
       "      <td>79</td>\n",
       "      <td>44</td>\n",
       "      <td>NR</td>\n",
       "      <td>SEC</td>\n",
       "      <td>2000.0</td>\n",
       "      <td>9.0</td>\n",
       "      <td>16.0</td>\n",
       "      <td>69</td>\n",
       "    </tr>\n",
       "    <tr>\n",
       "      <th>2</th>\n",
       "      <td>2000-09-23</td>\n",
       "      <td>Arkansas</td>\n",
       "      <td>20</td>\n",
       "      <td>Alabama</td>\n",
       "      <td>NR</td>\n",
       "      <td>Razorback StadiumFayetteville, AR</td>\n",
       "      <td>ESPN2</td>\n",
       "      <td>W 28–21</td>\n",
       "      <td>W</td>\n",
       "      <td>28</td>\n",
       "      <td>...</td>\n",
       "      <td>0</td>\n",
       "      <td>0</td>\n",
       "      <td>85</td>\n",
       "      <td>63</td>\n",
       "      <td>NR</td>\n",
       "      <td>SEC</td>\n",
       "      <td>2000.0</td>\n",
       "      <td>9.0</td>\n",
       "      <td>23.0</td>\n",
       "      <td>49</td>\n",
       "    </tr>\n",
       "    <tr>\n",
       "      <th>3</th>\n",
       "      <td>2000-09-30</td>\n",
       "      <td>Arkansas</td>\n",
       "      <td>11</td>\n",
       "      <td>No. 25 Georgia</td>\n",
       "      <td>NR</td>\n",
       "      <td>Razorback StadiumFayetteville, AR</td>\n",
       "      <td>JPS</td>\n",
       "      <td>L 7–38</td>\n",
       "      <td>L</td>\n",
       "      <td>7</td>\n",
       "      <td>...</td>\n",
       "      <td>0</td>\n",
       "      <td>0</td>\n",
       "      <td>77</td>\n",
       "      <td>45</td>\n",
       "      <td>25</td>\n",
       "      <td>SEC</td>\n",
       "      <td>2000.0</td>\n",
       "      <td>9.0</td>\n",
       "      <td>30.0</td>\n",
       "      <td>45</td>\n",
       "    </tr>\n",
       "    <tr>\n",
       "      <th>4</th>\n",
       "      <td>2000-10-07</td>\n",
       "      <td>Arkansas</td>\n",
       "      <td>18</td>\n",
       "      <td>Louisiana–Monroe*</td>\n",
       "      <td>NR</td>\n",
       "      <td>Razorback StadiumFayetteville, AR</td>\n",
       "      <td>Not on TV</td>\n",
       "      <td>W 52–6</td>\n",
       "      <td>W</td>\n",
       "      <td>52</td>\n",
       "      <td>...</td>\n",
       "      <td>0</td>\n",
       "      <td>0</td>\n",
       "      <td>50</td>\n",
       "      <td>28</td>\n",
       "      <td>NR</td>\n",
       "      <td>SEC</td>\n",
       "      <td>2000.0</td>\n",
       "      <td>10.0</td>\n",
       "      <td>7.0</td>\n",
       "      <td>58</td>\n",
       "    </tr>\n",
       "  </tbody>\n",
       "</table>\n",
       "<p>5 rows × 29 columns</p>\n",
       "</div>"
      ],
      "text/plain": [
       "        Date      Team Time                   Opponent Rank  \\\n",
       "0 2000-09-02  Arkansas   20  Southwest Missouri State*   NR   \n",
       "1 2000-09-16  Arkansas   18               Boise State*   NR   \n",
       "2 2000-09-23  Arkansas   20                    Alabama   NR   \n",
       "3 2000-09-30  Arkansas   11             No. 25 Georgia   NR   \n",
       "4 2000-10-07  Arkansas   18          Louisiana–Monroe*   NR   \n",
       "\n",
       "                                  Site         TV   Result Results  \\\n",
       "0  War Memorial StadiumLittle Rock, AR  Not on TV   W 38–0       W   \n",
       "1  War Memorial StadiumLittle Rock, AR  Not on TV  W 38–31       W   \n",
       "2    Razorback StadiumFayetteville, AR      ESPN2  W 28–21       W   \n",
       "3    Razorback StadiumFayetteville, AR        JPS   L 7–38       L   \n",
       "4    Razorback StadiumFayetteville, AR  Not on TV   W 52–6       W   \n",
       "\n",
       "   Home Score  ...  SNOW  SNWD TMAX TMIN  Opponent_Rank  Conference    Year  \\\n",
       "0          38  ...     0     0  105   65             NR         SEC  2000.0   \n",
       "1          38  ...     0     0   79   44             NR         SEC  2000.0   \n",
       "2          28  ...     0     0   85   63             NR         SEC  2000.0   \n",
       "3           7  ...     0     0   77   45             25         SEC  2000.0   \n",
       "4          52  ...     0     0   50   28             NR         SEC  2000.0   \n",
       "\n",
       "  Month   Day Total Score  \n",
       "0   9.0   2.0          38  \n",
       "1   9.0  16.0          69  \n",
       "2   9.0  23.0          49  \n",
       "3   9.0  30.0          45  \n",
       "4  10.0   7.0          58  \n",
       "\n",
       "[5 rows x 29 columns]"
      ]
     },
     "execution_count": 10,
     "metadata": {},
     "output_type": "execute_result"
    }
   ],
   "source": [
    "#preview data\n",
    "df.head()"
   ]
  },
  {
   "cell_type": "code",
   "execution_count": 11,
   "id": "daec4f2c-e6cf-45b7-ab1e-e029f666fd42",
   "metadata": {},
   "outputs": [
    {
     "data": {
      "text/plain": [
       "0       38\n",
       "1       69\n",
       "2       49\n",
       "3       45\n",
       "4       58\n",
       "        ..\n",
       "6667    47\n",
       "6668    51\n",
       "6669    19\n",
       "6670    80\n",
       "6671    46\n",
       "Name: Total Score, Length: 6672, dtype: int32"
      ]
     },
     "execution_count": 11,
     "metadata": {},
     "output_type": "execute_result"
    }
   ],
   "source": [
    "#determine total score\n",
    "total_score = df['Home Score'] + df['Away Score']\n",
    "df['Total Score'] = total_score\n",
    "df['Total Score']"
   ]
  },
  {
   "cell_type": "code",
   "execution_count": 17,
   "id": "56295caf-a2bf-4e76-ac42-7ad36be4bfb6",
   "metadata": {},
   "outputs": [
    {
     "data": {
      "text/plain": [
       "Not on TV                 1317\n",
       "ESPN                       508\n",
       "ESPN2                      460\n",
       "ABC                        453\n",
       "FSN                        403\n",
       "                          ... \n",
       "BV                           1\n",
       "ESPNU/ESPN 3D                1\n",
       "CSN NE/Comcast Network       1\n",
       "ELVN<U+2606>                 1\n",
       "Versus/CSTV/mtn              1\n",
       "Name: TV, Length: 245, dtype: Int64"
      ]
     },
     "execution_count": 17,
     "metadata": {},
     "output_type": "execute_result"
    }
   ],
   "source": [
    "# Get a count of unique TV values\n",
    "df['TV'].value_counts()"
   ]
  },
  {
   "cell_type": "code",
   "execution_count": 13,
   "id": "318f4d19-9f72-4a40-8057-3a40357ff34c",
   "metadata": {},
   "outputs": [
    {
     "name": "stdout",
     "output_type": "stream",
     "text": [
      "Checks out\n"
     ]
    }
   ],
   "source": [
    "# Split DataFrames into TV and non-TV\n",
    "df_TV = df[df.TV != \"Not on TV\"]\n",
    "\n",
    "df_no_TV = df[df.TV == \"Not on TV\"]\n",
    "\n",
    "# Check if the counts of each DataFrame match the master DataFrame\n",
    "if len(df) == len(df_TV) + len(df_no_TV):\n",
    "    print(\"Checks out\")\n",
    "else:\n",
    "    print(\"Does not check out\")"
   ]
  },
  {
   "cell_type": "code",
   "execution_count": 15,
   "id": "fa1db265-4185-4d45-b8e0-d2e245e056c5",
   "metadata": {},
   "outputs": [],
   "source": [
    "#format pyplot plots nicely\n",
    "from matplotlib.pylab import rcParams\n",
    "%matplotlib inline\n",
    "import seaborn as sns\n",
    "sns.set(style='ticks',font='Arial',font_scale=1.2)\n",
    "rcParams['figure.figsize'] = 12,8\n",
    "rcParams['axes.spines.top'] = False\n",
    "rcParams['axes.spines.right'] = False"
   ]
  },
  {
   "cell_type": "code",
   "execution_count": 19,
   "id": "c59df4e6-d929-40d1-ac15-66134b8fc5d0",
   "metadata": {
    "tags": []
   },
   "outputs": [
    {
     "data": {
      "text/plain": [
       "ESPN                           508\n",
       "ESPN2                          460\n",
       "ABC                            453\n",
       "FSN                            403\n",
       "ESPN3                          398\n",
       "                              ... \n",
       "CSN NE/Comcast Network           1\n",
       "ELVN<U+2606>                     1\n",
       "ARSN PPV                         1\n",
       "CSNC/ESPN3                       1\n",
       "Oceanic PPV/Campus Insiders      1\n",
       "Name: TV, Length: 244, dtype: Int64"
      ]
     },
     "execution_count": 19,
     "metadata": {},
     "output_type": "execute_result"
    }
   ],
   "source": [
    "df_TV['TV'].value_counts()"
   ]
  },
  {
   "cell_type": "code",
   "execution_count": 102,
   "id": "db538fa5-2394-445d-a7a9-c3424bf6c8bb",
   "metadata": {
    "tags": []
   },
   "outputs": [
    {
     "name": "stdout",
     "output_type": "stream",
     "text": [
      "The average score when a CFB game is broadcast on TV is: 54.44126984126984\n",
      "The average score when a CFB game is not broadcast on TV is: 54.10630220197418\n"
     ]
    },
    {
     "data": {
      "image/png": "[encoded data removed]",
      "text/plain": [
       "<Figure size 864x576 with 1 Axes>"
      ]
     },
     "metadata": {},
     "output_type": "display_data"
    }
   ],
   "source": [
    "# Find the average scores for TV versus no TV\n",
    "TV_average_score = df_TV['Total Score'].mean()\n",
    "\n",
    "no_TV_average_score = df_no_TV['Total Score'].mean()\n",
    "\n",
    "x_labels = ['Broadcast on TV', 'Not Broadcast on TV']\n",
    "heights = [TV_average_score, no_TV_average_score]\n",
    "\n",
    "print(f\"The average score when a CFB game is broadcast on TV is: {TV_average_score}\")\n",
    "print(f\"The average score when a CFB game is not broadcast on TV is: {no_TV_average_score}\")\n",
    "\n",
    "plt.bar(x_labels, heights);\n",
    "plt.title('Total Score: On TV vs. Not on TV');\n",
    "plt.ylabel('Average Score');"
   ]
  },
  {
   "cell_type": "code",
   "execution_count": 110,
   "id": "dba260b6",
   "metadata": {},
   "outputs": [
    {
     "name": "stdout",
     "output_type": "stream",
     "text": [
      "The average score for channel Index(['P12N', 'ESPN3', 'Other', 'ESPN2', 'FSN', 'BTN', 'ESPN', 'ESPN+',\n",
      "       'ESPNU', 'ABC'],\n",
      "      dtype='string', name='TV') is TV\n",
      "P12N     62.223776\n",
      "ESPN3    56.238693\n",
      "Other    55.107193\n",
      "ESPN2    54.586957\n",
      "FSN      53.766749\n",
      "BTN      53.655172\n",
      "ESPN     53.143701\n",
      "ESPN+    52.795053\n",
      "ESPNU    52.422680\n",
      "ABC      51.922737\n",
      "Name: Total Score, dtype: float64\n"
     ]
    },
    {
     "data": {
      "image/png": "[encoded data removed]",
      "text/plain": [
       "<Figure size 864x576 with 1 Axes>"
      ]
     },
     "metadata": {},
     "output_type": "display_data"
    }
   ],
   "source": [
    "# Create a stripped down DataFrame with just TV station and total score\n",
    "df_TV_basic = df_TV[['TV', 'Total Score']]\n",
    "\n",
    "# Group by top 10 unqiue TV value's average total score, sort by total score\n",
    "not_top10 = df_TV_basic.groupby('TV').sum().sort_values('Total Score', ascending=False).index[9:]\n",
    "\n",
    "# Replace everything not in the top 10 with 'Other'\n",
    "df_TV_replace  = df_TV_basic.replace(not_top10, 'Other')\n",
    "\n",
    "# Group by TV again\n",
    "df_TV_new = df_TV_replace.groupby('TV').mean()\n",
    "\n",
    "df_TV_new = df_TV_new.sort_values('Total Score', ascending=False)\n",
    "\n",
    "for score in df_TV_new:\n",
    "    print(f\"The average score for channel {df_TV_new.index} is {df_TV_new['Total Score']}\")\n",
    "\n",
    "plt.bar(df_TV_new.index, df_TV_new['Total Score']);\n",
    "plt.title(\"Average Score for Top 10 CFB Channels\");\n",
    "plt.ylabel(\"Average Total Score\");"
   ]
  }
 ],
 "metadata": {
  "kernelspec": {
   "display_name": "Python 3 (ipykernel)",
   "language": "python",
   "name": "python3"
  },
  "language_info": {
   "codemirror_mode": {
    "name": "ipython",
    "version": 3
   },
   "file_extension": ".py",
   "mimetype": "text/x-python",
   "name": "python",
   "nbconvert_exporter": "python",
   "pygments_lexer": "ipython3",
   "version": "3.10.2"
  }
 },
 "nbformat": 4,
 "nbformat_minor": 5
}
